{
  "cells": [
    {
      "cell_type": "code",
      "execution_count": 19,
      "metadata": {
        "id": "OuhBR6eayhpb"
      },
      "outputs": [],
      "source": [
        "import re\n",
        "import pandas as pd"
      ]
    },
    {
      "cell_type": "code",
      "execution_count": null,
      "metadata": {
        "colab": {
          "base_uri": "https://localhost:8080/"
        },
        "id": "WycKX__Bywid",
        "outputId": "bd272a70-8c81-46e4-fd38-c2cbf76e7b9b"
      },
      "outputs": [
        {
          "name": "stdout",
          "output_type": "stream",
          "text": [
            "655\n"
          ]
        }
      ],
      "source": [
        "with open('big.txt','r') as fd:\n",
        "  lines=fd.readlines()\n",
        "  words=[]\n",
        "  for line in lines:\n",
        "    words+=re.findall('\\w+',line.lower())\n",
        "  print(len(words))"
      ]
    },
    {
      "cell_type": "code",
      "execution_count": null,
      "metadata": {
        "colab": {
          "background_save": true,
          "base_uri": "https://localhost:8080/"
        },
        "id": "VAwkqBfh05pc",
        "outputId": "aa0f5903-0978-474d-f98e-d914d6fe10cb"
      },
      "outputs": [
        {
          "data": {
            "text/plain": [
              "236"
            ]
          },
          "execution_count": 4,
          "metadata": {},
          "output_type": "execute_result"
        }
      ],
      "source": [
        "vocab=set(words)\n",
        "len(vocab)"
      ]
    },
    {
      "cell_type": "code",
      "source": [
        "def split(word):\n",
        "  parts=[]\n",
        "  for i in range(len(word)+1):\n",
        "    parts+=[(word[:i], word[i:])]\n",
        "  return parts"
      ],
      "metadata": {
        "id": "FCeTMT1A1tLp"
      },
      "execution_count": 6,
      "outputs": []
    },
    {
      "cell_type": "code",
      "source": [
        "split('kavya')"
      ],
      "metadata": {
        "colab": {
          "base_uri": "https://localhost:8080/"
        },
        "id": "MjxkCH8M2DjM",
        "outputId": "8ff1794f-1cfc-4b7e-fda6-d65126246deb"
      },
      "execution_count": 7,
      "outputs": [
        {
          "output_type": "execute_result",
          "data": {
            "text/plain": [
              "[('', 'kavya'),\n",
              " ('k', 'avya'),\n",
              " ('ka', 'vya'),\n",
              " ('kav', 'ya'),\n",
              " ('kavy', 'a'),\n",
              " ('kavya', '')]"
            ]
          },
          "metadata": {},
          "execution_count": 7
        }
      ]
    },
    {
      "cell_type": "code",
      "source": [
        "def insert(word):\n",
        "    letters = 'abcdefghijklmnopqrstuvwxyz'\n",
        "    return [word[:i] + c + word[i:] for i in range(len(word) + 1) for c in letters]\n",
        "\n",
        "def delete(word):\n",
        "    return [word[:i] + word[i + 1:] for i in range(len(word))]\n",
        "\n",
        "def swap(word):\n",
        "    return [word[:i] + word[i + 1] + word[i] + word[i + 2:] for i in range(len(word) - 1)]\n",
        "\n",
        "def replace(word):\n",
        "    letters = 'abcdefghijklmnopqrstuvwxyz'\n",
        "    return [word[:i] + c + word[i + 1:] for i in range(len(word)) for c in letters]\n",
        "\n"
      ],
      "metadata": {
        "id": "ZUClcm4b96YD"
      },
      "execution_count": 25,
      "outputs": []
    },
    {
      "cell_type": "code",
      "source": [
        "def edit(word):\n",
        "  return list(set(insert(word)+delete(word)+swap(word)+replace(word)))"
      ],
      "metadata": {
        "id": "NJ18Sd6V2IAk"
      },
      "execution_count": 14,
      "outputs": []
    },
    {
      "cell_type": "code",
      "source": [
        "word_probability = {\n",
        "    'family': 0.001,\n",
        "    'familiar': 0.0008,\n",
        "    'families': 0.0005,\n",
        "}\n"
      ],
      "metadata": {
        "id": "7StJF4Ox-W_R"
      },
      "execution_count": 17,
      "outputs": []
    },
    {
      "cell_type": "code",
      "source": [
        "def spell_check_edit_1(word,count=5):\n",
        "  output=[]\n",
        "  suggested_words=edit(word)\n",
        "  for wrd in suggested_words:\n",
        "    if wrd in word_probability.keys():\n",
        "      output.append([wrd,word_probability[wrd]])\n",
        "  return list(pd.DataFrame(output, columns=['word','prob']).sort_values(by='prob',ascending=False).head(count)['word'].values)\n",
        ""
      ],
      "metadata": {
        "id": "txBJiHHB2sEV"
      },
      "execution_count": 23,
      "outputs": []
    },
    {
      "cell_type": "code",
      "source": [
        "spell_check_edit_1('famili')"
      ],
      "metadata": {
        "colab": {
          "base_uri": "https://localhost:8080/"
        },
        "id": "K7NgjXJb4Ce8",
        "outputId": "6c5010cd-5000-4dbc-c2ea-9680113f86db"
      },
      "execution_count": 26,
      "outputs": [
        {
          "output_type": "execute_result",
          "data": {
            "text/plain": [
              "['family']"
            ]
          },
          "metadata": {},
          "execution_count": 26
        }
      ]
    }
  ],
  "metadata": {
    "colab": {
      "provenance": []
    },
    "kernelspec": {
      "display_name": "Python 3",
      "name": "python3"
    },
    "language_info": {
      "name": "python"
    }
  },
  "nbformat": 4,
  "nbformat_minor": 0
}